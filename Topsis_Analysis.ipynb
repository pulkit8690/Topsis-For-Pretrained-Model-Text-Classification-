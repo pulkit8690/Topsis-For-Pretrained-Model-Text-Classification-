{
  "nbformat": 4,
  "nbformat_minor": 0,
  "metadata": {
    "colab": {
      "private_outputs": true,
      "provenance": [],
      "gpuType": "T4",
      "authorship_tag": "ABX9TyPzLcARXjaTeZg/fn5c32Xj",
      "include_colab_link": true
    },
    "kernelspec": {
      "name": "python3",
      "display_name": "Python 3"
    },
    "language_info": {
      "name": "python"
    },
    "accelerator": "GPU"
  },
  "cells": [
    {
      "cell_type": "markdown",
      "metadata": {
        "id": "view-in-github",
        "colab_type": "text"
      },
      "source": [
        "<a href=\"https://colab.research.google.com/github/pulkit8690/Topsis-For-Pretrained-Model-Text-Classification-/blob/main/Topsis_Analysis.ipynb\" target=\"_parent\"><img src=\"https://colab.research.google.com/assets/colab-badge.svg\" alt=\"Open In Colab\"/></a>"
      ]
    },
    {
      "cell_type": "code",
      "source": [
        "import pandas as pd\n",
        "import numpy as np\n",
        "import matplotlib.pyplot as plt\n",
        "import seaborn as sns"
      ],
      "metadata": {
        "id": "qmWPanIm1kd4"
      },
      "execution_count": null,
      "outputs": []
    },
    {
      "cell_type": "code",
      "source": [
        "def topsis(df: pd.DataFrame, wts: np.ndarray, impact: np.ndarray) -> pd.DataFrame:\n",
        "    mat = np.array(df.iloc[:, 1:])\n",
        "    rows, cols = mat.shape\n",
        "\n",
        "\n",
        "    for i in range(cols):\n",
        "        temp = 0\n",
        "        for j in range(rows):\n",
        "            temp += mat[j][i] ** 2\n",
        "        temp = temp**0.5\n",
        "        wts[i] /= temp\n",
        "\n",
        "    weightedNormalized = mat * wts\n",
        "\n",
        "    idealBestWorst = []\n",
        "\n",
        "    for i in range(cols):\n",
        "        maxi = weightedNormalized[:, i].max()\n",
        "        mini = weightedNormalized[:, i].min()\n",
        "        idealBestWorst.append((maxi, mini) if impact[i] == 1 else (mini, maxi))\n",
        "    topsisScore = []\n",
        "    for i in range(rows):\n",
        "        temp_p, temp_n = 0, 0\n",
        "        for j in range(cols):\n",
        "            temp_p += (weightedNormalized[i][j] - idealBestWorst[j][0]) ** 2\n",
        "            temp_n += (weightedNormalized[i][j] - idealBestWorst[j][1]) ** 2\n",
        "        temp_p, temp_n = temp_p**0.5, temp_n**0.5\n",
        "\n",
        "        topsisScore.append(temp_n / (temp_p + temp_n))\n",
        "\n",
        "    df[\"score\"] = np.array(topsisScore).T\n",
        "    df[\"rank\"] = df[\"score\"].rank(method=\"max\", ascending=False)\n",
        "    df[\"rank\"] = df.astype({\"rank\": int})[\"rank\"]\n",
        "    return df\n",
        "\n"
      ],
      "metadata": {
        "id": "Q95yvYRV2Ouf"
      },
      "execution_count": null,
      "outputs": []
    },
    {
      "cell_type": "code",
      "source": [
        "df1 = pd.read_csv(\"Inputdata.csv\",index_col=0)\n"
      ],
      "metadata": {
        "id": "yjj1-rUp3IWA"
      },
      "execution_count": null,
      "outputs": []
    },
    {
      "cell_type": "code",
      "source": [
        "wts =np.array([10]*10)\n",
        "impacts = np.array([1,1,1,1,1,1,1,1,-1,-1])"
      ],
      "metadata": {
        "id": "plFEAC5N3MrU"
      },
      "execution_count": null,
      "outputs": []
    },
    {
      "cell_type": "code",
      "source": [
        "newDF = topsis(df1,wts,impacts)"
      ],
      "metadata": {
        "id": "p3tnxVlw3Pwc"
      },
      "execution_count": null,
      "outputs": []
    },
    {
      "cell_type": "code",
      "source": [
        "newDF.head()"
      ],
      "metadata": {
        "id": "Opc7JKLz3Rnc"
      },
      "execution_count": null,
      "outputs": []
    },
    {
      "cell_type": "code",
      "source": [
        "newDF.to_csv('Output.csv')"
      ],
      "metadata": {
        "id": "NevC9TDT3TdZ"
      },
      "execution_count": null,
      "outputs": []
    },
    {
      "cell_type": "code",
      "source": [
        "df_melted = pd.melt(newDF, id_vars=['Model'], value_vars=['Accuracy', 'Precision', 'Recall', 'F1 Score', 'ROC-AUC',\n",
        "                                                       'Average Precision', 'Time (s)', 'Log Loss' ,'score'])\n",
        "\n",
        "# Plot using Seaborn facet grid\n",
        "g = sns.FacetGrid(df_melted, col=\"variable\", col_wrap=3, height=4, sharey=False)\n",
        "g.map(sns.barplot, \"Model\", \"value\", palette='viridis')\n",
        "g.set_axis_labels(\"Model\", \"Value\")\n",
        "g.set_xticklabels(rotation=45, ha='right')\n",
        "g.set_titles(col_template=\"{col_name}\")\n",
        "plt.tight_layout()\n",
        "plt.savefig('parameter.png')\n",
        "plt.show()"
      ],
      "metadata": {
        "id": "ypnHnm1c3bp4"
      },
      "execution_count": null,
      "outputs": []
    },
    {
      "cell_type": "code",
      "source": [
        "plt.figure(figsize=(8,8))\n",
        "plt.bar(newDF.Model,newDF.score,color = 'purple')\n",
        "plt.xlabel('Model',labelpad=10)\n",
        "plt.ylabel('TOPSIS Score')\n",
        "plt.title('TOPSIS Score Comparison')\n",
        "plt.xticks(rotation=90)\n",
        "plt.tight_layout()\n",
        "plt.savefig('comparison.png')\n",
        "plt.show()"
      ],
      "metadata": {
        "id": "Gpv4DvMu3jzW"
      },
      "execution_count": null,
      "outputs": []
    }
  ]
}